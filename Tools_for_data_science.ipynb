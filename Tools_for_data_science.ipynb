{
 "cells": [
  {
   "cell_type": "markdown",
   "metadata": {},
   "source": [
    "# *Final 1*"
   ]
  },
  {
   "cell_type": "markdown",
   "metadata": {},
   "source": [
    "# Introduction"
   ]
  },
  {
   "cell_type": "markdown",
   "metadata": {},
   "source": [
    "Project by Me!"
   ]
  },
  {
   "cell_type": "markdown",
   "metadata": {},
   "source": [
    "Data Science Languages:\n",
    "Python,\n",
    "R,\n",
    "C++,\n",
    "Julia,\n",
    "SQL,\n",
    "Scala,\n",
    "Java"
   ]
  },
  {
   "cell_type": "markdown",
   "metadata": {},
   "source": [
    "Data Science Libraries: Pandas, Numpy, Matplotlib, Plotly, Caret"
   ]
  },
  {
   "cell_type": "markdown",
   "metadata": {},
   "source": [
    "Arithmetic: 1 + 1 = 2, 37 + 40 + 20 = 97"
   ]
  },
  {
   "cell_type": "markdown",
   "metadata": {},
   "source": [
    "Multiply or Add numbers:"
   ]
  },
  {
   "cell_type": "code",
   "execution_count": 1,
   "metadata": {},
   "outputs": [],
   "source": [
    "def multiply(list):\n",
    "    mult = 1\n",
    "    for val in list:\n",
    "        mult = val * mult\n",
    "    return mult\n",
    "def add(list):\n",
    "    sum = 0\n",
    "    for val in list:\n",
    "        sum += val\n",
    "    return sum"
   ]
  },
  {
   "cell_type": "markdown",
   "metadata": {},
   "source": [
    "Minutes to Hours"
   ]
  },
  {
   "cell_type": "code",
   "execution_count": null,
   "metadata": {},
   "outputs": [],
   "source": [
    "def min_hr(min):\n",
    "    return min/60.0"
   ]
  },
  {
   "cell_type": "markdown",
   "metadata": {},
   "source": [
    "# **Objectives: **\n",
    "1.) To showcase some python knowledge\n",
    "2.) Learn about Jupyter Notebooks = ipynbs\n",
    "3.) define some methods\n",
    "4.) format with markdown\n",
    "5.) Organize with different headers\n",
    "6.) Understand how code and projects work\n",
    "7.) Make code easy to understand\n",
    "8.) Understand data\n",
    "9.) Learn the importance of data in ipynbs\n",
    "10.) \n"
   ]
  },
  {
   "cell_type": "markdown",
   "metadata": {},
   "source": [
    "# *By: Arjun Mahableshwarkar*"
   ]
  }
 ],
 "metadata": {
  "kernelspec": {
   "display_name": "Python 3",
   "language": "python",
   "name": "python3"
  },
  "language_info": {
   "name": "python",
   "version": "3.11.5"
  }
 },
 "nbformat": 4,
 "nbformat_minor": 2
}
